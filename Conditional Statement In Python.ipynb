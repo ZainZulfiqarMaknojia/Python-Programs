{
 "cells": [
  {
   "cell_type": "markdown",
   "metadata": {},
   "source": [
    "# Conditional Statement In Python"
   ]
  },
  {
   "cell_type": "code",
   "execution_count": 1,
   "metadata": {},
   "outputs": [],
   "source": [
    "# syntax \n",
    "\n",
    "# if condition :\n",
    "    #statement\n",
    "#elif condition:\n",
    "    #statement\n",
    "#else:\n",
    "    #statement"
   ]
  },
  {
   "cell_type": "code",
   "execution_count": 2,
   "metadata": {},
   "outputs": [],
   "source": [
    "A = 5\n",
    "B = 5\n",
    "C = 10\n",
    "D = True\n",
    "E = 5.5"
   ]
  },
  {
   "cell_type": "code",
   "execution_count": 3,
   "metadata": {},
   "outputs": [
    {
     "name": "stdout",
     "output_type": "stream",
     "text": [
      "A & B Are Equal\n"
     ]
    }
   ],
   "source": [
    "if A == B:\n",
    "    print(\"A & B Are Equal\")\n",
    "elif A > B:\n",
    "    print(\"A is greater\")\n",
    "else:\n",
    "    print(\"B is greater\")\n",
    "    "
   ]
  },
  {
   "cell_type": "code",
   "execution_count": 4,
   "metadata": {},
   "outputs": [],
   "source": [
    "# it is important to give indentation after each if , elif , else statement"
   ]
  },
  {
   "cell_type": "code",
   "execution_count": 5,
   "metadata": {},
   "outputs": [
    {
     "name": "stdout",
     "output_type": "stream",
     "text": [
      "2\n"
     ]
    }
   ],
   "source": [
    "if A==B and D == False:\n",
    "    print(\"1\")\n",
    "elif A==B and C == 10:\n",
    "    print(\"2\")\n",
    "elif A==C or D== False:\n",
    "    print(\"3\")\n",
    "else:\n",
    "    print(\"4\")"
   ]
  },
  {
   "cell_type": "markdown",
   "metadata": {},
   "source": [
    "# Hope You Have Understood Conditional Statement In Python \n",
    "# Thanks For Watching Please Subscribe For Such Amazing Content"
   ]
  },
  {
   "cell_type": "code",
   "execution_count": null,
   "metadata": {},
   "outputs": [],
   "source": []
  }
 ],
 "metadata": {
  "kernelspec": {
   "display_name": "Python 3",
   "language": "python",
   "name": "python3"
  },
  "language_info": {
   "codemirror_mode": {
    "name": "ipython",
    "version": 3
   },
   "file_extension": ".py",
   "mimetype": "text/x-python",
   "name": "python",
   "nbconvert_exporter": "python",
   "pygments_lexer": "ipython3",
   "version": "3.7.6"
  }
 },
 "nbformat": 4,
 "nbformat_minor": 4
}
