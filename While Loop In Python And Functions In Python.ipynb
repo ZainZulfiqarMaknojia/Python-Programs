{
 "cells": [
  {
   "cell_type": "markdown",
   "metadata": {},
   "source": [
    "# while loop in python"
   ]
  },
  {
   "cell_type": "code",
   "execution_count": 1,
   "metadata": {},
   "outputs": [
    {
     "name": "stdout",
     "output_type": "stream",
     "text": [
      "0\n",
      "1\n",
      "2\n",
      "3\n",
      "4\n",
      "5\n",
      "6\n",
      "7\n",
      "8\n",
      "9\n"
     ]
    }
   ],
   "source": [
    "i = 0\n",
    "while i<10:\n",
    "    print(i)\n",
    "    i+=1\n",
    "    "
   ]
  },
  {
   "cell_type": "code",
   "execution_count": 2,
   "metadata": {},
   "outputs": [
    {
     "name": "stdout",
     "output_type": "stream",
     "text": [
      "0\n",
      "1\n",
      "2\n",
      "3\n",
      "4\n",
      "5\n",
      "6\n",
      "7\n",
      "8\n",
      "9\n"
     ]
    }
   ],
   "source": [
    "i = 0\n",
    "while 1:\n",
    "    if i >= 10:\n",
    "        break\n",
    "    print(i)    \n",
    "    i+=1\n",
    "    "
   ]
  },
  {
   "cell_type": "code",
   "execution_count": 3,
   "metadata": {},
   "outputs": [
    {
     "name": "stdout",
     "output_type": "stream",
     "text": [
      "2\n",
      "4\n",
      "6\n",
      "8\n",
      "10\n",
      "13\n"
     ]
    }
   ],
   "source": [
    "i = 1\n",
    "\n",
    "while 1:\n",
    "    if i == 12:\n",
    "        break\n",
    "    if i % 2 != 0:\n",
    "        i+=1\n",
    "        continue\n",
    "    print(i)\n",
    "    i+=1\n",
    "print(\"13\")    \n",
    "        \n",
    "    "
   ]
  },
  {
   "cell_type": "code",
   "execution_count": 6,
   "metadata": {},
   "outputs": [
    {
     "name": "stdout",
     "output_type": "stream",
     "text": [
      "0\n",
      "2\n",
      "4\n",
      "6\n",
      "8\n"
     ]
    }
   ],
   "source": [
    "list1 = [1,2,3,4,23,45,87,232,342,3123]\n",
    "i = 0\n",
    "while i < len(list1):\n",
    "    if i % 2 != 0:\n",
    "        i+=1\n",
    "        continue\n",
    "    print(i)\n",
    "    i+=1\n",
    "    \n",
    "\n",
    "  "
   ]
  },
  {
   "cell_type": "markdown",
   "metadata": {},
   "source": [
    "# Functions In Python"
   ]
  },
  {
   "cell_type": "code",
   "execution_count": 11,
   "metadata": {},
   "outputs": [
    {
     "name": "stdout",
     "output_type": "stream",
     "text": [
      "Hello World1\n"
     ]
    }
   ],
   "source": [
    "def function1():\n",
    "    print(\"Hello World1\")\n",
    "\n",
    "\n",
    "function1()\n",
    "\n",
    "\n"
   ]
  },
  {
   "cell_type": "code",
   "execution_count": 14,
   "metadata": {},
   "outputs": [
    {
     "name": "stdout",
     "output_type": "stream",
     "text": [
      "Area Of The Rectangle Is : 50\n",
      "Perimeter Of The Rectangle Is : 30\n"
     ]
    }
   ],
   "source": [
    "length = 10\n",
    "bredth = 5\n",
    "\n",
    "def rectangle(length,bredth):\n",
    "    print(\"Area Of The Rectangle Is : \" + str(length * bredth))\n",
    "    print(\"Perimeter Of The Rectangle Is : \" + str(2*length + 2*bredth))\n",
    "    \n",
    "rectangle(length,bredth)    "
   ]
  },
  {
   "cell_type": "code",
   "execution_count": 15,
   "metadata": {},
   "outputs": [
    {
     "name": "stdout",
     "output_type": "stream",
     "text": [
      "Perimeter Of The Rectangle Is : 30\n",
      "Area Of The Rectangle Is : 50\n"
     ]
    }
   ],
   "source": [
    "def rectangle1(length,bredth):\n",
    "    print(\"Perimeter Of The Rectangle Is : \" + str(2*length + 2*bredth))\n",
    "    return length * bredth\n",
    "\n",
    "\n",
    "Area = rectangle1(length,bredth)\n",
    "print(\"Area Of The Rectangle Is : \" + str(Area))"
   ]
  },
  {
   "cell_type": "code",
   "execution_count": 21,
   "metadata": {},
   "outputs": [
    {
     "name": "stdout",
     "output_type": "stream",
     "text": [
      "Area Of The Rectangle Is : 50\n",
      "Perimeter Of The Rectangle Is : 30\n"
     ]
    }
   ],
   "source": [
    "def rectangle2(length,bredth):\n",
    "    list1 = []\n",
    "    list1.append(length * bredth)\n",
    "    list1.append(2*length + 2*bredth)\n",
    "    return list1\n",
    "\n",
    "\n",
    "Attribute = rectangle2(length,bredth)\n",
    "print(\"Area Of The Rectangle Is : \" + str(Attribute[0]))\n",
    "print(\"Perimeter Of The Rectangle Is : \" + str(Attribute[1]))"
   ]
  },
  {
   "cell_type": "code",
   "execution_count": 22,
   "metadata": {},
   "outputs": [
    {
     "data": {
      "text/plain": [
       "(2, 4, 5)"
      ]
     },
     "execution_count": 22,
     "metadata": {},
     "output_type": "execute_result"
    }
   ],
   "source": [
    "A = (2,4,5)\n",
    "A"
   ]
  },
  {
   "cell_type": "code",
   "execution_count": 24,
   "metadata": {},
   "outputs": [
    {
     "data": {
      "text/plain": [
       "2"
      ]
     },
     "execution_count": 24,
     "metadata": {},
     "output_type": "execute_result"
    }
   ],
   "source": [
    "A[0]"
   ]
  },
  {
   "cell_type": "code",
   "execution_count": 26,
   "metadata": {},
   "outputs": [
    {
     "data": {
      "text/plain": [
       "4"
      ]
     },
     "execution_count": 26,
     "metadata": {},
     "output_type": "execute_result"
    }
   ],
   "source": [
    "A = (2,4,5)\n",
    "B , C , D = A\n",
    "C"
   ]
  },
  {
   "cell_type": "code",
   "execution_count": 28,
   "metadata": {},
   "outputs": [
    {
     "name": "stdout",
     "output_type": "stream",
     "text": [
      "Area Of The Rectangle Is : 50\n",
      "Perimeter Of The Rectangle Is : 30\n"
     ]
    }
   ],
   "source": [
    "def rectangle3(length,bredth):\n",
    "    list1 = (length * bredth , 2*length + 2*bredth)\n",
    "    return list1\n",
    "\n",
    "\n",
    "Attribute = rectangle3(length,bredth)\n",
    "Area , Perimeter = Attribute\n",
    "print(\"Area Of The Rectangle Is : \" + str(Area))\n",
    "print(\"Perimeter Of The Rectangle Is : \" + str(Perimeter))"
   ]
  },
  {
   "cell_type": "code",
   "execution_count": null,
   "metadata": {},
   "outputs": [],
   "source": []
  }
 ],
 "metadata": {
  "kernelspec": {
   "display_name": "Python 3",
   "language": "python",
   "name": "python3"
  },
  "language_info": {
   "codemirror_mode": {
    "name": "ipython",
    "version": 3
   },
   "file_extension": ".py",
   "mimetype": "text/x-python",
   "name": "python",
   "nbconvert_exporter": "python",
   "pygments_lexer": "ipython3",
   "version": "3.7.6"
  }
 },
 "nbformat": 4,
 "nbformat_minor": 4
}
