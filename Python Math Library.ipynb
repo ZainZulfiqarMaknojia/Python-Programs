{
 "cells": [
  {
   "cell_type": "code",
   "execution_count": 1,
   "metadata": {},
   "outputs": [],
   "source": [
    "# In order to use math library we have to import it\n",
    "import math"
   ]
  },
  {
   "cell_type": "code",
   "execution_count": 2,
   "metadata": {},
   "outputs": [
    {
     "name": "stdout",
     "output_type": "stream",
     "text": [
      "24\n",
      "3628800\n",
      "720\n"
     ]
    }
   ],
   "source": [
    "# Factorial\n",
    "# Factorial Example\n",
    "# Factorial(4) = 4 * 3 * 2 * 1\n",
    "# Factorial(10) = 10 * 9 * 8 * 7 * 6 * 5 * 4 * 3 * 2 * 1\n",
    "# Factorial(6) = 6 * 5 * 4 * 3 * 2 * 1\n",
    "Num1 = math.factorial(4)\n",
    "Num2 = math.factorial(10)\n",
    "Num3 = math.factorial(6)\n",
    "\n",
    "print(Num1)\n",
    "print(Num2)\n",
    "print(Num3)"
   ]
  },
  {
   "cell_type": "code",
   "execution_count": 3,
   "metadata": {},
   "outputs": [
    {
     "name": "stdout",
     "output_type": "stream",
     "text": [
      "2.0\n",
      "3.0\n",
      "4.0\n",
      "5.0\n"
     ]
    }
   ],
   "source": [
    "# Square Root\n",
    "# Square Root Example\n",
    "# Square Root  4  = 2\n",
    "# Square Root  9  = 3\n",
    "# Square Root  16  = 4\n",
    "# Square Root  25  = 5\n",
    "Num1 = math.sqrt(4)\n",
    "Num2 = math.sqrt(9)\n",
    "Num3 = math.sqrt(16)\n",
    "Num4 = math.sqrt(25)\n",
    "\n",
    "print(Num1)\n",
    "print(Num2)\n",
    "print(Num3)\n",
    "print(Num4)"
   ]
  },
  {
   "cell_type": "code",
   "execution_count": 4,
   "metadata": {},
   "outputs": [
    {
     "name": "stdout",
     "output_type": "stream",
     "text": [
      "5\n",
      "6\n",
      "11\n"
     ]
    }
   ],
   "source": [
    "# ceil \n",
    "# ceil example  \n",
    "# ceil (4.1) = 5\n",
    "# ceil (5.3) = 6\n",
    "# ceil (10.9) = 11\n",
    "Num1 = math.ceil(4.1)\n",
    "Num2 = math.ceil(5.3)\n",
    "Num3 = math.ceil(10.9)\n",
    "\n",
    "print(Num1)\n",
    "print(Num2)\n",
    "print(Num3)\n"
   ]
  },
  {
   "cell_type": "code",
   "execution_count": 5,
   "metadata": {},
   "outputs": [
    {
     "name": "stdout",
     "output_type": "stream",
     "text": [
      "4\n",
      "5\n",
      "10\n"
     ]
    }
   ],
   "source": [
    "# floor\n",
    "# floor example\n",
    "# floor (4.1) = 4\n",
    "# floor (5.3) = 5\n",
    "# floor(10.9) = 10\n",
    "Num1 = math.floor(4.1)\n",
    "Num2 = math.floor(5.3)\n",
    "Num3 = math.floor(10.9)\n",
    "\n",
    "print(Num1)\n",
    "print(Num2)\n",
    "print(Num3)\n"
   ]
  },
  {
   "cell_type": "code",
   "execution_count": 6,
   "metadata": {},
   "outputs": [
    {
     "name": "stdout",
     "output_type": "stream",
     "text": [
      "8.0\n",
      "1024.0\n",
      "125.0\n"
     ]
    }
   ],
   "source": [
    "# power\n",
    "# 2 power 3 = 8      because 2 * 2 * 2 = 8\n",
    "# 4 power 5 = 1024   because 4 * 4 * 4 * 4 * 4 = 1024\n",
    "# 5 power 3 = 125    because 5 * 5 * 5 = 125\n",
    "Num1 = math.pow(2,3)\n",
    "Num2 = math.pow(4,5)\n",
    "Num3 = math.pow(5,3)\n",
    "\n",
    "print(Num1)\n",
    "print(Num2)\n",
    "print(Num3)\n"
   ]
  },
  {
   "cell_type": "code",
   "execution_count": 7,
   "metadata": {},
   "outputs": [
    {
     "name": "stdout",
     "output_type": "stream",
     "text": [
      "3.141592653589793\n"
     ]
    }
   ],
   "source": [
    "# pie = 3.141...\n",
    "Num1 = math.pi\n",
    "print(Num1)"
   ]
  },
  {
   "cell_type": "code",
   "execution_count": 8,
   "metadata": {},
   "outputs": [
    {
     "name": "stdout",
     "output_type": "stream",
     "text": [
      "3\n"
     ]
    }
   ],
   "source": [
    "# Trunc  3.1415.... Trunc will make it 3 it will truncate all decimal places\n",
    "Num1 = math.trunc(Num1)\n",
    "print(Num1)"
   ]
  },
  {
   "cell_type": "markdown",
   "metadata": {},
   "source": [
    "# Thanks for watching and kindly like , share ,subscribe "
   ]
  },
  {
   "cell_type": "code",
   "execution_count": null,
   "metadata": {},
   "outputs": [],
   "source": []
  }
 ],
 "metadata": {
  "kernelspec": {
   "display_name": "Python 3",
   "language": "python",
   "name": "python3"
  },
  "language_info": {
   "codemirror_mode": {
    "name": "ipython",
    "version": 3
   },
   "file_extension": ".py",
   "mimetype": "text/x-python",
   "name": "python",
   "nbconvert_exporter": "python",
   "pygments_lexer": "ipython3",
   "version": "3.7.6"
  }
 },
 "nbformat": 4,
 "nbformat_minor": 4
}
