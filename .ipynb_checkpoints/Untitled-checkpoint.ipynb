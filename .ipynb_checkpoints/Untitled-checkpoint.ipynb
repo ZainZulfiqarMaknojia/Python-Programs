{
 "cells": [
  {
   "cell_type": "code",
   "execution_count": 3,
   "metadata": {},
   "outputs": [
    {
     "name": "stdout",
     "output_type": "stream",
     "text": [
      "24\n"
     ]
    }
   ],
   "source": [
    "def areaRectangle(lenght,bredth):\n",
    "    area = lenght * bredth\n",
    "    print(area)\n",
    "\n",
    "areaRectangle(4,6)   "
   ]
  },
  {
   "cell_type": "code",
   "execution_count": 8,
   "metadata": {},
   "outputs": [
    {
     "name": "stdout",
     "output_type": "stream",
     "text": [
      "Inside Function: 24\n",
      "Outside Function: 30\n"
     ]
    }
   ],
   "source": [
    "area = 30\n",
    "def areaRectangle(lenght,bredth):\n",
    "    area = lenght * bredth\n",
    "    print(\"Inside Function: \" + str(area))\n",
    "\n",
    "areaRectangle(4,6)\n",
    "print(\"Outside Function: \" + str(area))\n"
   ]
  },
  {
   "cell_type": "code",
   "execution_count": 9,
   "metadata": {},
   "outputs": [
    {
     "name": "stdout",
     "output_type": "stream",
     "text": [
      "Inside Function: 24\n",
      "Outside Function: 24\n"
     ]
    }
   ],
   "source": [
    "area = 30\n",
    "def areaRectangle(lenght,bredth):\n",
    "    global area\n",
    "    area = lenght * bredth\n",
    "    print(\"Inside Function: \" + str(area))\n",
    "\n",
    "areaRectangle(4,6)\n",
    "print(\"Outside Function: \" + str(area))"
   ]
  },
  {
   "cell_type": "code",
   "execution_count": 10,
   "metadata": {},
   "outputs": [],
   "source": [
    "def marks(E1 , E2 , E3 , E4 , E5):\n",
    "    def Percentage(X):\n",
    "        return ( X / 550 ) * 100\n",
    "    return(Percentage(E1) , Percentage(E2) , Percentage(E3) , Percentage(E4) , Percentage(E5))"
   ]
  },
  {
   "cell_type": "code",
   "execution_count": 11,
   "metadata": {},
   "outputs": [
    {
     "name": "stdout",
     "output_type": "stream",
     "text": [
      "(78.18181818181819, 98.72727272727273, 60.0, 89.0909090909091, 84.54545454545455)\n"
     ]
    }
   ],
   "source": [
    "print(marks(430 , 543 , 330 , 490 , 465))"
   ]
  },
  {
   "cell_type": "code",
   "execution_count": 12,
   "metadata": {},
   "outputs": [],
   "source": [
    "def marks(E1 , E2 , E3 , E4 , E5):\n",
    "    E1 = E1 / 550\n",
    "    E2 = E2 / 550\n",
    "    E3 = E3 / 550\n",
    "    E4 = E4 / 550\n",
    "    E5 = E5 / 550\n",
    "    def Percentage(X):\n",
    "        return X * 100\n",
    "    return(Percentage(E1) , Percentage(E2) , Percentage(E3) , Percentage(E4) , Percentage(E5))"
   ]
  },
  {
   "cell_type": "code",
   "execution_count": 13,
   "metadata": {},
   "outputs": [
    {
     "name": "stdout",
     "output_type": "stream",
     "text": [
      "(78.18181818181819, 98.72727272727273, 60.0, 89.0909090909091, 84.54545454545455)\n"
     ]
    }
   ],
   "source": [
    "print(marks(430 , 543 , 330 , 490 , 465))"
   ]
  },
  {
   "cell_type": "code",
   "execution_count": 14,
   "metadata": {},
   "outputs": [
    {
     "name": "stdout",
     "output_type": "stream",
     "text": [
      "5.566666666666667\n"
     ]
    }
   ],
   "source": [
    "def Height(H1 , H2 , H3):\n",
    "    Sum = H1 + H2 + H3\n",
    "    def Average(Sum , Num):\n",
    "        return Sum / Num\n",
    "    return Average(Sum , 3)\n",
    "\n",
    "print(Height(6.2 , 5.6 , 4.9))\n",
    "        \n",
    "        \n",
    "        "
   ]
  },
  {
   "cell_type": "code",
   "execution_count": 25,
   "metadata": {},
   "outputs": [],
   "source": [
    "def outer():\n",
    "    N = 5\n",
    "    def inner():\n",
    "        nonlocal N\n",
    "        print(N)\n",
    "        N = 3\n",
    "        print(N)\n",
    "    \n",
    "    \n",
    "    print(N)\n",
    "    inner()\n",
    "    print(N)\n"
   ]
  },
  {
   "cell_type": "code",
   "execution_count": 26,
   "metadata": {},
   "outputs": [
    {
     "name": "stdout",
     "output_type": "stream",
     "text": [
      "5\n",
      "5\n",
      "3\n",
      "3\n"
     ]
    }
   ],
   "source": [
    "outer()"
   ]
  },
  {
   "cell_type": "code",
   "execution_count": 36,
   "metadata": {},
   "outputs": [
    {
     "name": "stdout",
     "output_type": "stream",
     "text": [
      "98.18181818181819\n"
     ]
    }
   ],
   "source": [
    "def perc(Marks , total = 550):\n",
    "    print(Marks/total * 100)\n",
    "perc(540)"
   ]
  },
  {
   "cell_type": "code",
   "execution_count": 37,
   "metadata": {},
   "outputs": [
    {
     "name": "stdout",
     "output_type": "stream",
     "text": [
      "3\n",
      "1\n",
      "12\n",
      "18\n",
      "672000\n",
      "10206\n"
     ]
    }
   ],
   "source": [
    "def Multiply(*args):\n",
    "    Product  = 1\n",
    "    \n",
    "    for i in args:\n",
    "        Product = Product * i\n",
    "    return Product\n",
    "\n",
    "\n",
    "print(Multiply(3))\n",
    "print(Multiply())\n",
    "print(Multiply(3 , 4))\n",
    "print(Multiply(3 , 6 ,1 ))\n",
    "print(Multiply(3 , 5 , 7, 8 , 5 , 10 , 16))\n",
    "print(Multiply(3 , 54 , 7 , 9))"
   ]
  },
  {
   "cell_type": "code",
   "execution_count": 44,
   "metadata": {},
   "outputs": [
    {
     "name": "stdout",
     "output_type": "stream",
     "text": [
      "24\n"
     ]
    },
    {
     "data": {
      "text/plain": [
       "20"
      ]
     },
     "execution_count": 44,
     "metadata": {},
     "output_type": "execute_result"
    }
   ],
   "source": [
    "Area = lambda Height , Bredth : Height * Bredth\n",
    "print(Area(4 , 6))\n",
    "Perimeter = lambda Height , Bredth : 2 * Height + 2 * Bredth\n",
    "Perimeter(4,6)"
   ]
  },
  {
   "cell_type": "code",
   "execution_count": 50,
   "metadata": {},
   "outputs": [
    {
     "name": "stdout",
     "output_type": "stream",
     "text": [
      "<map object at 0x000001AE311B3EC8>\n",
      "[12, 15, 18, 21, 24, 27]\n"
     ]
    }
   ],
   "source": [
    "Height1 = [4,5,6,7,8,9]\n",
    "#Bredth = [14,35,1,3,9,3]\n",
    "\n",
    "Area = map(lambda Num : Num * 3 , Height1)\n",
    "print(Area)\n",
    "print(list(Area))"
   ]
  },
  {
   "cell_type": "code",
   "execution_count": null,
   "metadata": {},
   "outputs": [],
   "source": []
  }
 ],
 "metadata": {
  "kernelspec": {
   "display_name": "Python 3",
   "language": "python",
   "name": "python3"
  },
  "language_info": {
   "codemirror_mode": {
    "name": "ipython",
    "version": 3
   },
   "file_extension": ".py",
   "mimetype": "text/x-python",
   "name": "python",
   "nbconvert_exporter": "python",
   "pygments_lexer": "ipython3",
   "version": "3.7.6"
  }
 },
 "nbformat": 4,
 "nbformat_minor": 4
}
