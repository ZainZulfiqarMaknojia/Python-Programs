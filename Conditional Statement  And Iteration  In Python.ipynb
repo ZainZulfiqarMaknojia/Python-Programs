{
 "cells": [
  {
   "cell_type": "code",
   "execution_count": null,
   "metadata": {},
   "outputs": [],
   "source": [
    "# Number >= 80 Grade = A+\n",
    "# Number >= 70 And Number < 80 Grade = A\n",
    "# Number >= 60 And Number < 70 Grade = B\n",
    "# Number >= 50 And Number < 60 Grade = C\n",
    "# Number >= 40 And Number < 50 Grade = D\n",
    "# Number < 40 Grade = F"
   ]
  },
  {
   "cell_type": "code",
   "execution_count": null,
   "metadata": {},
   "outputs": [],
   "source": [
    "# User Number \n",
    "# Pass Or Fail"
   ]
  },
  {
   "cell_type": "code",
   "execution_count": null,
   "metadata": {},
   "outputs": [],
   "source": [
    "Number = int(input(\"Enter Your Marks : \"))\n",
    "\n",
    "if Number >= 40:\n",
    "    print(\"You Are Pass\")\n",
    "    print(\"Congratulation\")\n",
    "else:\n",
    "    print(\"Sorry! But You Are Fail\")"
   ]
  },
  {
   "cell_type": "code",
   "execution_count": null,
   "metadata": {},
   "outputs": [],
   "source": [
    "# Number\n",
    "# Number >= 80 Grade = A+\n",
    "# Number >= 70 And Number < 80 Grade = A\n",
    "# Number >= 60 And Number < 70 Grade = B\n",
    "# Number >= 50 And Number < 60 Grade = C\n",
    "# Number >= 40 And Number < 50 Grade = D\n",
    "# Number < 40 Grade = F"
   ]
  },
  {
   "cell_type": "code",
   "execution_count": null,
   "metadata": {},
   "outputs": [],
   "source": [
    "Number = int(input(\"Enter Your Marks : \"))\n",
    "\n",
    "if Number >= 80:\n",
    "    print(\"Your Grade Is A+\")\n",
    "elif Number >= 70 and  Number < 80:\n",
    "    print(\"Your Grade Is A\")\n",
    "elif Number >= 60 and  Number < 70:\n",
    "    print(\"Your Grade Is B\")\n",
    "elif Number >= 50 and  Number < 60:\n",
    "    print(\"Your Grade Is C\") \n",
    "elif Number >= 40 and  Number < 50:\n",
    "    print(\"Your Grade Is D\") \n",
    "else:\n",
    "    print(\"Your Grade Is F\")"
   ]
  },
  {
   "cell_type": "code",
   "execution_count": null,
   "metadata": {},
   "outputs": [],
   "source": [
    "# Nested If - Elif - Else\n",
    "# Pass \n",
    "# Number >= 80 Grade = A+\n",
    "# Number >= 70 And Number < 80 Grade = A\n",
    "# Number >= 60 And Number < 70 Grade = B\n",
    "# Number >= 50 And Number < 60 Grade = C\n",
    "# Number >= 40 And Number < 50 Grade = D\n",
    "# Fail\n",
    "\n",
    "\n",
    "\n",
    "Number = int(input(\"Enter Your Marks: \"))\n",
    "\n",
    "if Number >= 40:\n",
    "    print(\"You Are Pass\")\n",
    "    if Number >= 80:\n",
    "        print(\"Your Grade Is A+\")\n",
    "    elif Number >= 70 and  Number < 80:\n",
    "        print(\"Your Grade Is A\")\n",
    "    elif Number >= 60 and  Number < 70:\n",
    "        print(\"Your Grade Is B\")\n",
    "    elif Number >= 50 and  Number < 60:\n",
    "        print(\"Your Grade Is C\") \n",
    "    elif Number >= 40 and  Number < 50:\n",
    "        print(\"Your Grade Is D\")\n",
    "else:\n",
    "    print(\"Your Grade Is F\")\n",
    "    \n",
    "\n"
   ]
  },
  {
   "cell_type": "code",
   "execution_count": null,
   "metadata": {},
   "outputs": [],
   "source": [
    "# Age >=18\n",
    "    # CNIC Status True\n",
    "        # Area Match Voting Area\n",
    "            # Candidate Existence\n",
    "                # Vote Successful\n",
    "            # No Such Candidate Exist    \n",
    "        # Not Eligible    \n",
    "   # Not Eligible         \n",
    "# Not Eligible            \n",
    "\n",
    "\n",
    "Candidate = [\"Zain\" , \"Rehan\" , \"Ali Shah\" , \"Arman\"]\n",
    "Area = \"FB Area\"\n",
    "\n",
    "Age = int(input(\"Enter Your Age : \"))\n",
    "print(\"Enter\\n1: If CNIC Is Not Expired\\n2: If CNIC Is Expired\")\n",
    "CNIC = int(input())\n",
    "Area1 = input(\"Enter Your Area: \")\n",
    "Candidate1 = input(\"Enter Your Candidate Name : \")\n",
    "\n",
    "\n",
    "\n",
    "\n"
   ]
  },
  {
   "cell_type": "code",
   "execution_count": null,
   "metadata": {},
   "outputs": [],
   "source": [
    "if Age >=18:\n",
    "    if CNIC == 1:\n",
    "        if Area == Area1:\n",
    "            if Candidate1 in Candidate:\n",
    "                print(\"Vote Submitted\")\n",
    "            else:\n",
    "                print(\"Candidate Not Exist\")\n",
    "        else:\n",
    "            print(\"Area Not Match\")\n",
    "    else:\n",
    "        print(\"Not Eligible Due To Expire CNIC\")\n",
    "else:\n",
    "    print(\"Your Age Is Lesser Than Minimum Requirement\")\n",
    "        "
   ]
  },
  {
   "cell_type": "code",
   "execution_count": null,
   "metadata": {},
   "outputs": [],
   "source": [
    "Candidate = [\"Zain\" , \"Rehan\" , \"Ali Shah\" , \"Arman\"]\n",
    "Area = \"FB Area\"\n",
    "\n",
    "Age = int(input(\"Enter Your Age : \"))\n",
    "if Age >=18:\n",
    "    print(\"Enter\\n1: If CNIC Is Not Expired\\n2: If CNIC Is Expired\")\n",
    "    CNIC = int(input())\n",
    "    if CNIC == 1:\n",
    "        Area1 = input(\"Enter Your Area: \")\n",
    "        if Area == Area1:\n",
    "            Candidate1 = input(\"Enter Your Candidate Name : \")\n",
    "            if Candidate1 in Candidate:\n",
    "                print(\"Vote Submitted\")\n",
    "            else:\n",
    "                print(\"Candidate Not Exist\")\n",
    "        else:\n",
    "            print(\"Area Not Match\")\n",
    "    else:\n",
    "        print(\"Not Eligible Due To Expire CNIC\")\n",
    "else:\n",
    "    print(\"Your Age Is Lesser Than Minimum Requirement\")\n",
    "\n",
    "\n",
    "\n"
   ]
  },
  {
   "cell_type": "code",
   "execution_count": null,
   "metadata": {},
   "outputs": [],
   "source": [
    "# Iterations In Python\n",
    "for i in range(len(Candidate)):\n",
    "    print(str(i+1) + \": \" + Candidate[i])"
   ]
  },
  {
   "cell_type": "code",
   "execution_count": null,
   "metadata": {},
   "outputs": [],
   "source": [
    "for i in Candidate:\n",
    "    print(i)"
   ]
  },
  {
   "cell_type": "code",
   "execution_count": null,
   "metadata": {},
   "outputs": [],
   "source": [
    "fullName = \"Zain Zulfiqar\"\n",
    "\n",
    "for i in fullName:\n",
    "    print(i)"
   ]
  },
  {
   "cell_type": "code",
   "execution_count": null,
   "metadata": {},
   "outputs": [],
   "source": [
    "List = []\n",
    "for i in range(10):\n",
    "    Name = input(\"Names Of Students: \")\n",
    "    List.append(Name)\n",
    "    \n",
    "print(len(List)) \n",
    "\n",
    "for i in List:\n",
    "    print(i)"
   ]
  },
  {
   "cell_type": "code",
   "execution_count": null,
   "metadata": {},
   "outputs": [],
   "source": [
    "List"
   ]
  },
  {
   "cell_type": "code",
   "execution_count": 2,
   "metadata": {},
   "outputs": [
    {
     "name": "stdout",
     "output_type": "stream",
     "text": [
      "Enter Your Age : 17\n",
      "Your Age Is Lesser Than Minimum Requirement\n",
      "Enter Your Age : 18\n",
      "Enter\n",
      "1: If CNIC Is Not Expired\n",
      "2: If CNIC Is Expired\n",
      "2\n",
      "Not Eligible Due To Expire CNIC\n",
      "Enter Your Age : 19\n",
      "Enter\n",
      "1: If CNIC Is Not Expired\n",
      "2: If CNIC Is Expired\n",
      "1\n",
      "Enter Your Area: Aisha Manzil\n",
      "Area Not Match\n",
      "Enter Your Age : 20\n",
      "Enter\n",
      "1: If CNIC Is Not Expired\n",
      "2: If CNIC Is Expired\n",
      "2\n",
      "Not Eligible Due To Expire CNIC\n",
      "Enter Your Age : 21\n",
      "Enter\n",
      "1: If CNIC Is Not Expired\n",
      "2: If CNIC Is Expired\n",
      "1\n",
      "Enter Your Area: FB Area\n",
      "Enter Your Candidate Name : Rehan\n",
      "Vote Submitted\n"
     ]
    }
   ],
   "source": [
    "Candidate = [\"Zain\" , \"Rehan\" , \"Ali Shah\" , \"Arman\"]\n",
    "Area = \"FB Area\"\n",
    "for i in range(5):\n",
    "    Age = int(input(\"Enter Your Age : \"))\n",
    "    if Age >=18:\n",
    "        print(\"Enter\\n1: If CNIC Is Not Expired\\n2: If CNIC Is Expired\")\n",
    "        CNIC = int(input())\n",
    "        if CNIC == 1:\n",
    "            Area1 = input(\"Enter Your Area: \")\n",
    "            if Area == Area1:\n",
    "                Candidate1 = input(\"Enter Your Candidate Name : \")\n",
    "                if Candidate1 in Candidate:\n",
    "                    print(\"Vote Submitted\")\n",
    "                else:\n",
    "                    print(\"Candidate Not Exist\")\n",
    "            else:\n",
    "                print(\"Area Not Match\")\n",
    "        else:\n",
    "            print(\"Not Eligible Due To Expire CNIC\")\n",
    "    else:\n",
    "        print(\"Your Age Is Lesser Than Minimum Requirement\")\n",
    "\n"
   ]
  },
  {
   "cell_type": "code",
   "execution_count": null,
   "metadata": {},
   "outputs": [],
   "source": []
  }
 ],
 "metadata": {
  "kernelspec": {
   "display_name": "Python 3",
   "language": "python",
   "name": "python3"
  },
  "language_info": {
   "codemirror_mode": {
    "name": "ipython",
    "version": 3
   },
   "file_extension": ".py",
   "mimetype": "text/x-python",
   "name": "python",
   "nbconvert_exporter": "python",
   "pygments_lexer": "ipython3",
   "version": "3.7.6"
  }
 },
 "nbformat": 4,
 "nbformat_minor": 4
}
