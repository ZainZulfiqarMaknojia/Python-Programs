{
 "cells": [
  {
   "cell_type": "code",
   "execution_count": 6,
   "metadata": {},
   "outputs": [
    {
     "name": "stdout",
     "output_type": "stream",
     "text": [
      "Zain Zulfiqar\n",
      "20\n",
      "5.8\n"
     ]
    }
   ],
   "source": [
    "Name = \"Zain Zulfiqar\"\n",
    "Age = 20\n",
    "\n",
    "print(Name + \"\\n\" + str(Age) + \"\\n5.8\")"
   ]
  },
  {
   "cell_type": "code",
   "execution_count": 7,
   "metadata": {},
   "outputs": [
    {
     "name": "stdout",
     "output_type": "stream",
     "text": [
      "Zain Zulfiqar\t20\n"
     ]
    }
   ],
   "source": [
    "print(Name + \"\\t\" + str(Age))"
   ]
  },
  {
   "cell_type": "code",
   "execution_count": 9,
   "metadata": {},
   "outputs": [
    {
     "name": "stdout",
     "output_type": "stream",
     "text": [
      "1\tRehan\n",
      "2\tAli Shah\n",
      "3\tIliyan\n",
      "4\tAli Salman\n",
      "\n"
     ]
    }
   ],
   "source": [
    "#1     Rehan\n",
    "#2     Ali Shah\n",
    "#3     Iliyan\n",
    "#4     Ali Salman\n",
    "\n",
    "\n",
    "Name1 = \"Rehan\"\n",
    "Name2 = \"Ali Shah\"\n",
    "Name3 = \"Iliyan\"\n",
    "Name4 = \"Ali Salman\"\n",
    "\n",
    "N1 = 1\n",
    "N2 = 2\n",
    "N3 = 3\n",
    "N4 = 4\n",
    "\n",
    "\n",
    "print(str(N1) + \"\\t\" + Name1 + \"\\n\" + str(N2) + \"\\t\" + Name2 + \"\\n\" + str(N3) + \"\\t\" + Name3 + \"\\n\" + str(N4) + \"\\t\" + Name4 + \"\\n\")\n",
    "\n"
   ]
  },
  {
   "cell_type": "code",
   "execution_count": 10,
   "metadata": {},
   "outputs": [],
   "source": [
    "import math"
   ]
  },
  {
   "cell_type": "code",
   "execution_count": 11,
   "metadata": {},
   "outputs": [
    {
     "name": "stdout",
     "output_type": "stream",
     "text": [
      "2.0\n"
     ]
    }
   ],
   "source": [
    "print(math.sqrt(4))"
   ]
  },
  {
   "cell_type": "code",
   "execution_count": 13,
   "metadata": {},
   "outputs": [
    {
     "name": "stdout",
     "output_type": "stream",
     "text": [
      "1024.0\n"
     ]
    }
   ],
   "source": [
    "print(math.pow(4,5))"
   ]
  },
  {
   "cell_type": "code",
   "execution_count": 14,
   "metadata": {},
   "outputs": [
    {
     "name": "stdout",
     "output_type": "stream",
     "text": [
      "120\n"
     ]
    }
   ],
   "source": [
    "print(math.factorial(5))"
   ]
  },
  {
   "cell_type": "code",
   "execution_count": 15,
   "metadata": {},
   "outputs": [
    {
     "name": "stdout",
     "output_type": "stream",
     "text": [
      "12.0\n"
     ]
    }
   ],
   "source": [
    "# 5 * 4 * 3 * 2 *1 = 120\n",
    "# permutation and combination    n!/(n-r)!  \n",
    "n = 4\n",
    "r = 2\n",
    "\n",
    "res = math.factorial(n) / math.factorial(n-r)\n",
    "print(res)"
   ]
  },
  {
   "cell_type": "code",
   "execution_count": 16,
   "metadata": {},
   "outputs": [],
   "source": [
    "N = 10\n",
    "N = N + 50\n"
   ]
  },
  {
   "cell_type": "code",
   "execution_count": 17,
   "metadata": {},
   "outputs": [
    {
     "name": "stdout",
     "output_type": "stream",
     "text": [
      "60\n"
     ]
    }
   ],
   "source": [
    "print(N)"
   ]
  },
  {
   "cell_type": "code",
   "execution_count": 18,
   "metadata": {},
   "outputs": [
    {
     "name": "stdout",
     "output_type": "stream",
     "text": [
      "60\n"
     ]
    }
   ],
   "source": [
    "N = 10\n",
    "N += 50\n",
    "print(N)"
   ]
  },
  {
   "cell_type": "code",
   "execution_count": 19,
   "metadata": {},
   "outputs": [
    {
     "name": "stdout",
     "output_type": "stream",
     "text": [
      "50\n"
     ]
    }
   ],
   "source": [
    "N = N - 10\n",
    "print(N)"
   ]
  },
  {
   "cell_type": "code",
   "execution_count": 20,
   "metadata": {},
   "outputs": [
    {
     "name": "stdout",
     "output_type": "stream",
     "text": [
      "50\n"
     ]
    }
   ],
   "source": [
    "N = 60\n",
    "N -= 10\n",
    "print(N)"
   ]
  },
  {
   "cell_type": "code",
   "execution_count": 21,
   "metadata": {},
   "outputs": [
    {
     "name": "stdout",
     "output_type": "stream",
     "text": [
      "5.0\n"
     ]
    }
   ],
   "source": [
    "N = 50\n",
    "N = N / 10\n",
    "print(N)"
   ]
  },
  {
   "cell_type": "code",
   "execution_count": 22,
   "metadata": {},
   "outputs": [
    {
     "name": "stdout",
     "output_type": "stream",
     "text": [
      "5.0\n"
     ]
    }
   ],
   "source": [
    "N = 50\n",
    "N /= 10\n",
    "print(N)"
   ]
  },
  {
   "cell_type": "code",
   "execution_count": 23,
   "metadata": {},
   "outputs": [
    {
     "name": "stdout",
     "output_type": "stream",
     "text": [
      "50\n"
     ]
    }
   ],
   "source": [
    "N = 10\n",
    "N = N * 5\n",
    "print(N)"
   ]
  },
  {
   "cell_type": "code",
   "execution_count": 24,
   "metadata": {},
   "outputs": [
    {
     "name": "stdout",
     "output_type": "stream",
     "text": [
      "50\n"
     ]
    }
   ],
   "source": [
    "N = 10\n",
    "N *= 5\n",
    "print(N)"
   ]
  },
  {
   "cell_type": "code",
   "execution_count": 25,
   "metadata": {},
   "outputs": [
    {
     "name": "stdout",
     "output_type": "stream",
     "text": [
      "0\n"
     ]
    }
   ],
   "source": [
    "N = 10\n",
    "N = N % 2\n",
    "print(N)"
   ]
  },
  {
   "cell_type": "code",
   "execution_count": 26,
   "metadata": {},
   "outputs": [
    {
     "name": "stdout",
     "output_type": "stream",
     "text": [
      "0\n"
     ]
    }
   ],
   "source": [
    "N = 10\n",
    "N %= 2\n",
    "print(N)"
   ]
  },
  {
   "cell_type": "code",
   "execution_count": 27,
   "metadata": {},
   "outputs": [],
   "source": [
    "# List Manipulation\n",
    "# String Manipulation\n",
    "# conditional Statement In Python"
   ]
  },
  {
   "cell_type": "code",
   "execution_count": 29,
   "metadata": {},
   "outputs": [],
   "source": [
    "Students = [] \n",
    "Students = [\"Rehan\" , \"Ali Salman\" , \"Ali Shah\" , \"Iliyan\"] #list heterogeneous  type int type string type bool"
   ]
  },
  {
   "cell_type": "code",
   "execution_count": 30,
   "metadata": {},
   "outputs": [],
   "source": [
    "List = [1,1.5,True , \"Zain\"]"
   ]
  },
  {
   "cell_type": "code",
   "execution_count": 31,
   "metadata": {},
   "outputs": [],
   "source": [
    "participantsMarks = [\"Zain\" ,8 , 9.5 , 10] #  0"
   ]
  },
  {
   "cell_type": "code",
   "execution_count": 32,
   "metadata": {},
   "outputs": [
    {
     "name": "stdout",
     "output_type": "stream",
     "text": [
      "8\n"
     ]
    }
   ],
   "source": [
    "# list 1 index participant name\n",
    "# 2 index marks1\n",
    "# 3 index marks2\n",
    "# 4 index marks 3\n",
    "\n",
    "print(participantsMarks[1]) # 0 , 1, 2, 3, ..."
   ]
  },
  {
   "cell_type": "code",
   "execution_count": 33,
   "metadata": {},
   "outputs": [
    {
     "name": "stdout",
     "output_type": "stream",
     "text": [
      "8\n",
      "9.5\n"
     ]
    }
   ],
   "source": [
    "print(participantsMarks[1])\n",
    "print(participantsMarks[2])"
   ]
  },
  {
   "cell_type": "code",
   "execution_count": 34,
   "metadata": {},
   "outputs": [
    {
     "name": "stdout",
     "output_type": "stream",
     "text": [
      "[8, 9.5]\n"
     ]
    }
   ],
   "source": [
    "print(participantsMarks[1:3])    # index 1 inclusively  : index 3 exclusive "
   ]
  },
  {
   "cell_type": "code",
   "execution_count": 35,
   "metadata": {},
   "outputs": [
    {
     "name": "stdout",
     "output_type": "stream",
     "text": [
      "[8, 9.5, 10]\n"
     ]
    }
   ],
   "source": [
    "print(participantsMarks[1:4])   # 1    4-1=3 "
   ]
  },
  {
   "cell_type": "code",
   "execution_count": 38,
   "metadata": {},
   "outputs": [
    {
     "name": "stdout",
     "output_type": "stream",
     "text": [
      "Enter Your Submitted Assignment Number: 1\n",
      "8\n"
     ]
    }
   ],
   "source": [
    "index = int(input(\"Enter Your Submitted Assignment Number: \"))\n",
    "print(participantsMarks[index])"
   ]
  },
  {
   "cell_type": "code",
   "execution_count": 39,
   "metadata": {},
   "outputs": [
    {
     "name": "stdout",
     "output_type": "stream",
     "text": [
      "['Zain', 8, 9.5, 10]\n"
     ]
    }
   ],
   "source": [
    "print(participantsMarks)"
   ]
  },
  {
   "cell_type": "code",
   "execution_count": 43,
   "metadata": {},
   "outputs": [
    {
     "name": "stdout",
     "output_type": "stream",
     "text": [
      "['Zain', 7.5, 9.5, 10, 8, 8]\n"
     ]
    }
   ],
   "source": [
    "#7.5\n",
    "\n",
    "participantsMarks[1] = 7.5\n",
    "print(participantsMarks)   # Zain 7.5 8 9.5 10"
   ]
  },
  {
   "cell_type": "code",
   "execution_count": 44,
   "metadata": {},
   "outputs": [
    {
     "name": "stdout",
     "output_type": "stream",
     "text": [
      "['Zain', 7.5, 9.5, 10, 8, 8, 8]\n"
     ]
    }
   ],
   "source": [
    "participantsMarks.append(8)\n",
    "print(participantsMarks)"
   ]
  },
  {
   "cell_type": "code",
   "execution_count": 45,
   "metadata": {},
   "outputs": [
    {
     "name": "stdout",
     "output_type": "stream",
     "text": [
      "['Zain', 7.5, 9.5, 10, 8, 8]\n"
     ]
    }
   ],
   "source": [
    "participantsMarks.pop()\n",
    "print(participantsMarks)"
   ]
  },
  {
   "cell_type": "code",
   "execution_count": 46,
   "metadata": {},
   "outputs": [
    {
     "name": "stdout",
     "output_type": "stream",
     "text": [
      "['Zain', 7.5, 9.5, 10, 8]\n"
     ]
    }
   ],
   "source": [
    "participantsMarks.pop()\n",
    "print(participantsMarks)"
   ]
  },
  {
   "cell_type": "code",
   "execution_count": 47,
   "metadata": {},
   "outputs": [
    {
     "name": "stdout",
     "output_type": "stream",
     "text": [
      "['Zain', 7.5, 9.5, 10, 8]\n"
     ]
    }
   ],
   "source": [
    "print(participantsMarks)"
   ]
  },
  {
   "cell_type": "code",
   "execution_count": 48,
   "metadata": {},
   "outputs": [
    {
     "name": "stdout",
     "output_type": "stream",
     "text": [
      "['Zain', 'Zulfiqar', 7.5, 9.5, 10, 8]\n"
     ]
    }
   ],
   "source": [
    "participantsMarks.insert(1,\"Zulfiqar\")  # zain zulfiqar 7.5 9.5 10 8\n",
    "print(participantsMarks)"
   ]
  },
  {
   "cell_type": "code",
   "execution_count": 49,
   "metadata": {},
   "outputs": [],
   "source": [
    "# You Have To Enter A Value At A Particular Index Without Removing Already Exists Value Rather Moving It On One Index Forward You Will Use \n",
    "# .insert()\n",
    "#  To Delete Recently Inserted Value \n",
    "# .pop()   \n",
    "# list[1] = 5\n",
    "\n",
    "\n",
    "participantsMarks.remove(7.5)"
   ]
  },
  {
   "cell_type": "code",
   "execution_count": 50,
   "metadata": {},
   "outputs": [
    {
     "name": "stdout",
     "output_type": "stream",
     "text": [
      "['Zain', 'Zulfiqar', 9.5, 10, 8]\n"
     ]
    }
   ],
   "source": [
    "print(participantsMarks)"
   ]
  },
  {
   "cell_type": "code",
   "execution_count": 51,
   "metadata": {},
   "outputs": [
    {
     "name": "stdout",
     "output_type": "stream",
     "text": [
      "['Zain', 9.5, 10, 8]\n"
     ]
    }
   ],
   "source": [
    "del participantsMarks[1]\n",
    "print(participantsMarks)"
   ]
  },
  {
   "cell_type": "code",
   "execution_count": 52,
   "metadata": {},
   "outputs": [
    {
     "name": "stdout",
     "output_type": "stream",
     "text": [
      "[]\n"
     ]
    }
   ],
   "source": [
    "participantsMarks.clear()   #[]\n",
    "print(participantsMarks)"
   ]
  },
  {
   "cell_type": "code",
   "execution_count": 53,
   "metadata": {},
   "outputs": [
    {
     "name": "stdout",
     "output_type": "stream",
     "text": [
      "0\n"
     ]
    }
   ],
   "source": [
    "print(len(participantsMarks))"
   ]
  },
  {
   "cell_type": "code",
   "execution_count": 54,
   "metadata": {},
   "outputs": [
    {
     "name": "stdout",
     "output_type": "stream",
     "text": [
      "5\n"
     ]
    }
   ],
   "source": [
    "participantsMarks =['Zain', 'Zulfiqar', 9.5, 10, 8]\n",
    "print(len(participantsMarks))"
   ]
  },
  {
   "cell_type": "code",
   "execution_count": 55,
   "metadata": {},
   "outputs": [],
   "source": [
    "participantsMarks2 =['Rehan', 'Riaz', 10, 9, 8]"
   ]
  },
  {
   "cell_type": "code",
   "execution_count": 56,
   "metadata": {},
   "outputs": [
    {
     "name": "stdout",
     "output_type": "stream",
     "text": [
      "['Zain', 'Zulfiqar', 9.5, 10, 8, 'Rehan', 'Riaz', 10, 9, 8]\n"
     ]
    }
   ],
   "source": [
    "total = participantsMarks + participantsMarks2\n",
    "print(total)"
   ]
  },
  {
   "cell_type": "code",
   "execution_count": 68,
   "metadata": {},
   "outputs": [
    {
     "name": "stdout",
     "output_type": "stream",
     "text": [
      "[7.0, 6.5, 5.6, 5.2, 4.5, 4.3]\n"
     ]
    }
   ],
   "source": [
    "Height = [5.2 , 5.6 ,4.3 , 7.0 ,6.5 , 4.5]\n",
    "Height = sorted(Height , reverse = True)\n",
    "print(Height)"
   ]
  },
  {
   "cell_type": "code",
   "execution_count": 65,
   "metadata": {},
   "outputs": [
    {
     "name": "stdout",
     "output_type": "stream",
     "text": [
      "[7.0, 6.5, 5.6, 5.2, 4.5, 4.3]\n"
     ]
    }
   ],
   "source": [
    "Height = [5.2 , 5.6 ,4.3 , 7.0 ,6.5 , 4.5]\n",
    "Height.sort(reverse = True)\n",
    "print(Height)"
   ]
  },
  {
   "cell_type": "code",
   "execution_count": 69,
   "metadata": {},
   "outputs": [
    {
     "name": "stdout",
     "output_type": "stream",
     "text": [
      "[7.0, 6.5, 5.6, 5.2, 4.5, 4.3, 5.1]\n"
     ]
    }
   ],
   "source": [
    "Height.append(5.1)\n",
    "print(Height)"
   ]
  },
  {
   "cell_type": "code",
   "execution_count": 70,
   "metadata": {},
   "outputs": [],
   "source": [
    "Participants = [['Zain', 'Zulfiqar', 9.5, 10, 8],['Rehan', 'Riaz', 10, 9, 8] , ['Zain', 'Zulfiqar', 9.5, 10, 8, 'Rehan', 'Riaz', 10, 9, 8]]"
   ]
  },
  {
   "cell_type": "code",
   "execution_count": 79,
   "metadata": {},
   "outputs": [
    {
     "name": "stdout",
     "output_type": "stream",
     "text": [
      "1\n"
     ]
    }
   ],
   "source": [
    "#Participants.insert([1][0] , 1)\n",
    "print(Participants[1])"
   ]
  },
  {
   "cell_type": "code",
   "execution_count": 84,
   "metadata": {},
   "outputs": [
    {
     "data": {
      "text/plain": [
       "'Zulfiqar'"
      ]
     },
     "execution_count": 84,
     "metadata": {},
     "output_type": "execute_result"
    }
   ],
   "source": [
    "# String \n",
    "\n",
    "N = \"Zain Zulfiqar\"\n",
    "N[5:13]"
   ]
  },
  {
   "cell_type": "code",
   "execution_count": 86,
   "metadata": {},
   "outputs": [
    {
     "name": "stdout",
     "output_type": "stream",
     "text": [
      "Pass\n"
     ]
    }
   ],
   "source": [
    "# Conditional Statement In Python\n",
    "\n",
    "marks = 81\n",
    "\n",
    "if marks >= 50:\n",
    "    print(\"Pass\")\n",
    "else:\n",
    "    print(\"Fail\")"
   ]
  },
  {
   "cell_type": "code",
   "execution_count": null,
   "metadata": {},
   "outputs": [],
   "source": []
  }
 ],
 "metadata": {
  "kernelspec": {
   "display_name": "Python 3",
   "language": "python",
   "name": "python3"
  },
  "language_info": {
   "codemirror_mode": {
    "name": "ipython",
    "version": 3
   },
   "file_extension": ".py",
   "mimetype": "text/x-python",
   "name": "python",
   "nbconvert_exporter": "python",
   "pygments_lexer": "ipython3",
   "version": "3.7.6"
  }
 },
 "nbformat": 4,
 "nbformat_minor": 4
}
